{
 "cells": [
  {
   "cell_type": "code",
   "execution_count": 1,
   "metadata": {
    "collapsed": false
   },
   "outputs": [
    {
     "name": "stderr",
     "output_type": "stream",
     "text": [
      "/usr/local/lib/python3.5/dist-packages/sklearn/cross_validation.py:44: DeprecationWarning: This module was deprecated in version 0.18 in favor of the model_selection module into which all the refactored classes and functions are moved. Also note that the interface of the new CV iterators are different from that of this module. This module will be removed in 0.20.\n",
      "  \"This module will be removed in 0.20.\", DeprecationWarning)\n",
      "WARNING (theano.sandbox.cuda): The cuda backend is deprecated and will be removed in the next release (v0.10).  Please switch to the gpuarray backend. You can get more information about how to switch at this URL:\n",
      " https://github.com/Theano/Theano/wiki/Converting-to-the-new-gpu-back-end%28gpuarray%29\n",
      "\n",
      "Using gpu device 0: TITAN X (Pascal) (CNMeM is disabled, cuDNN 5110)\n"
     ]
    }
   ],
   "source": [
    "import os\n",
    "import gc\n",
    "import sys\n",
    "import time\n",
    "import datetime\n",
    "import traceback\n",
    "from collections import OrderedDict\n",
    "\n",
    "import numpy as np\n",
    "import pandas as pd\n",
    "import nibabel as nib\n",
    "from tqdm import *\n",
    "\n",
    "from sklearn.metrics import confusion_matrix, accuracy_score, roc_auc_score\n",
    "from sklearn.cross_validation import train_test_split\n",
    "from sklearn.cross_validation import StratifiedKFold\n",
    "\n",
    "import theano\n",
    "import theano.tensor as T\n",
    "import lasagne\n",
    "from lasagne.layers import InputLayer\n",
    "from lasagne.layers.dnn import Conv3DDNNLayer\n",
    "from lasagne.layers.dnn import Pool3DDNNLayer\n",
    "from lasagne.layers import BatchNormLayer\n",
    "from lasagne.layers import NonlinearityLayer\n",
    "from lasagne.layers import ElemwiseSumLayer\n",
    "from lasagne.layers import DenseLayer\n",
    "from lasagne.layers import GlobalPoolLayer\n",
    "from lasagne.nonlinearities import rectify, softmax, identity\n",
    "from lasagne.layers import set_all_param_values\n",
    "from lasagne.layers import DropoutLayer\n",
    "\n",
    "import matplotlib.pyplot as plt\n",
    "import seaborn as sns\n",
    "from skimage.transform import resize\n",
    "from skimage.transform import rotate\n",
    "import nibabel"
   ]
  },
  {
   "cell_type": "code",
   "execution_count": 2,
   "metadata": {
    "collapsed": true
   },
   "outputs": [],
   "source": [
    "input_var = T.tensor5(name='input', dtype='float32')\n",
    "target_var = T.ivector()\n",
    "inp_shape = (None, 1, 110, 110, 110)"
   ]
  },
  {
   "cell_type": "code",
   "execution_count": 3,
   "metadata": {
    "collapsed": true
   },
   "outputs": [],
   "source": [
    "modelname = 'models/pretrained_vgg.npz'"
   ]
  },
  {
   "cell_type": "code",
   "execution_count": 4,
   "metadata": {
    "collapsed": false
   },
   "outputs": [],
   "source": [
    "mx = nib.load('image/example.nii').get_data().max(axis=0).max(axis=0).max(axis=0)\n",
    "mri = np.array(nib.load('image/example.nii').get_data()) / mx\n",
    "mri_rz = resize(mri,(256,256,256))"
   ]
  },
  {
   "cell_type": "code",
   "execution_count": 5,
   "metadata": {
    "collapsed": true
   },
   "outputs": [],
   "source": [
    "def build_net():\n",
    "    \"\"\"Method for VGG like net Building.\n",
    "\n",
    "    Returns\n",
    "    -------\n",
    "    nn : lasagne.layer\n",
    "        Network.\n",
    "    \"\"\"\n",
    "    nn = {}\n",
    "    nn['input'] = InputLayer(inp_shape, input_var=input_var)\n",
    "\n",
    "    nn['conv1a'] = Conv3DDNNLayer(nn['input'], 8, 3)\n",
    "    nn['conv1b'] = Conv3DDNNLayer(nn['conv1a'], 8, 3, nonlinearity=identity)\n",
    "    nn['nl1'] = NonlinearityLayer(nn['conv1b'])\n",
    "    nn['pool1'] = Pool3DDNNLayer(nn['nl1'], 2)\n",
    "\n",
    "    nn['conv2a'] = Conv3DDNNLayer(nn['pool1'], 16, 3)\n",
    "    nn['conv2b'] = Conv3DDNNLayer(nn['conv2a'], 16, 3, nonlinearity=identity)\n",
    "    nn['nl2'] = NonlinearityLayer(nn['conv2b'])\n",
    "    nn['pool2'] = Pool3DDNNLayer(nn['nl2'], 2)\n",
    "\n",
    "    nn['conv3a'] = Conv3DDNNLayer(nn['pool2'], 32, 3)\n",
    "    nn['conv3b'] = Conv3DDNNLayer(nn['conv3a'], 32, 3)\n",
    "    nn['conv3c'] = Conv3DDNNLayer(nn['conv3b'], 32, 3, nonlinearity=identity)\n",
    "    nn['nl3'] = NonlinearityLayer(nn['conv3c'])\n",
    "    nn['pool3'] = Pool3DDNNLayer(nn['nl3'], 2)\n",
    "\n",
    "    nn['conv4a'] = Conv3DDNNLayer(nn['pool3'], 64, 3)\n",
    "    nn['conv4b'] = Conv3DDNNLayer(nn['conv4a'], 64, 3)\n",
    "    nn['conv4c'] = Conv3DDNNLayer(nn['conv4b'], 64, 3, nonlinearity=identity)\n",
    "    nn['nl4'] = NonlinearityLayer(nn['conv4c'])\n",
    "    nn['pool4'] = Pool3DDNNLayer(nn['nl4'], 2)\n",
    "\n",
    "    nn['dense1'] = DenseLayer(nn['pool4'], num_units=128)\n",
    "    nn['bn'] = BatchNormLayer(nn['dense1'])\n",
    "    nn['dropout'] = DropoutLayer(nn['bn'], p=0.7)\n",
    "\n",
    "    nn['dense2'] = DenseLayer(nn['dropout'], num_units=64)\n",
    "    \n",
    "    #nn['pool4'] = GlobalPoolLayer(nn['nl4'])\n",
    "\n",
    "    nn['prob'] = DenseLayer(nn['dense2'], num_units=2,\n",
    "                    nonlinearity=lasagne.nonlinearities.softmax)\n",
    "    return nn\n"
   ]
  },
  {
   "cell_type": "code",
   "execution_count": 6,
   "metadata": {
    "collapsed": false
   },
   "outputs": [],
   "source": [
    "net = build_net()"
   ]
  },
  {
   "cell_type": "code",
   "execution_count": 7,
   "metadata": {
    "collapsed": false
   },
   "outputs": [],
   "source": [
    "#you can change to the layer that you want to visualize\n",
    "outlayer, activation = lasagne.layers.get_output([net['prob'],net['conv4c']],deterministic=False)"
   ]
  },
  {
   "cell_type": "code",
   "execution_count": 8,
   "metadata": {
    "collapsed": true
   },
   "outputs": [],
   "source": [
    "#prediction = lasagne.layers.get_output(net['prob'], deterministic=False)\n",
    "loss = lasagne.objectives.categorical_crossentropy(outlayer,\n",
    "                                                   target_var)\n",
    "loss = loss.mean()"
   ]
  },
  {
   "cell_type": "code",
   "execution_count": 9,
   "metadata": {
    "collapsed": false
   },
   "outputs": [],
   "source": [
    "grad = T.grad(loss, activation)"
   ]
  },
  {
   "cell_type": "code",
   "execution_count": 10,
   "metadata": {
    "collapsed": true
   },
   "outputs": [],
   "source": [
    "#conv_output = lasagne.layers.get_output(net['voxres9_out'])\n",
    "test_fn = theano.function([input_var], outlayer)\n",
    "#conv_fn = theano.function([input_var], conv_output)\n",
    "grad_fn = theano.function([input_var,target_var], grad)\n"
   ]
  },
  {
   "cell_type": "code",
   "execution_count": 11,
   "metadata": {
    "collapsed": true
   },
   "outputs": [],
   "source": [
    "activation_fn = theano.function([input_var], activation)"
   ]
  },
  {
   "cell_type": "code",
   "execution_count": 12,
   "metadata": {
    "collapsed": false
   },
   "outputs": [],
   "source": [
    "with np.load(modelname) as f:\n",
    "    param_values = [f['arr_%d' % i] for i in range(len(f.files))]\n",
    "\n",
    "lasagne.layers.set_all_param_values(net['prob'], param_values)"
   ]
  },
  {
   "cell_type": "code",
   "execution_count": 13,
   "metadata": {
    "collapsed": false
   },
   "outputs": [
    {
     "name": "stderr",
     "output_type": "stream",
     "text": [
      "/usr/local/lib/python3.5/dist-packages/ipykernel/__main__.py:38: MatplotlibDeprecationWarning: pyplot.hold is deprecated.\n",
      "    Future behavior will be consistent with the long-time default:\n",
      "    plot commands add elements without first clearing the\n",
      "    Axes and/or Figure.\n",
      "/usr/local/lib/python3.5/dist-packages/matplotlib/__init__.py:805: MatplotlibDeprecationWarning: axes.hold is deprecated. Please remove it from your matplotlibrc and/or style files.\n",
      "  mplDeprecation)\n",
      "/usr/local/lib/python3.5/dist-packages/matplotlib/rcsetup.py:155: MatplotlibDeprecationWarning: axes.hold is deprecated, will be removed in 3.0\n",
      "  mplDeprecation)\n",
      "/usr/local/lib/python3.5/dist-packages/ipykernel/__main__.py:48: MatplotlibDeprecationWarning: pyplot.hold is deprecated.\n",
      "    Future behavior will be consistent with the long-time default:\n",
      "    plot commands add elements without first clearing the\n",
      "    Axes and/or Figure.\n",
      "/usr/local/lib/python3.5/dist-packages/ipykernel/__main__.py:58: MatplotlibDeprecationWarning: pyplot.hold is deprecated.\n",
      "    Future behavior will be consistent with the long-time default:\n",
      "    plot commands add elements without first clearing the\n",
      "    Axes and/or Figure.\n"
     ]
    },
    {
     "data": {
      "image/png": "[encoded data removed]",
      "text/plain": [
       "<matplotlib.figure.Figure at 0x7ff846fd8fd0>"
      ]
     },
     "metadata": {},
     "output_type": "display_data"
    }
   ],
   "source": [
    "grad_val = -grad_fn(np.array(mri).reshape((-1, 1, 110, 110, 110)),np.array(np.int32(1)).reshape((1)))\n",
    "\n",
    "activation_val = activation_fn(np.array(mri).reshape((-1, 1, 110, 110, 110)))[0]\n",
    "\n",
    "class_weights = np.sum(grad_val, axis=(2,3,4)) / np.prod(grad_val.shape[2:5])\n",
    "\n",
    "cam = np.zeros(dtype = np.float32, shape = activation_val.shape[1:4])\n",
    "\n",
    "for j, w in enumerate(class_weights[0,:]):\n",
    "    cam += w * activation_val[j, :, :, :]\n",
    "\n",
    "res = (cam - np.min(cam)) / (np.max(cam) - np.min(cam))\n",
    "\n",
    "seg0_name = 'image/3DUCM/example_level_00.npy'\n",
    "seg0 = np.load(seg0_name)\n",
    "seg0 = np.flipud(seg0)\n",
    "seg0_array = np.unique(seg0)\n",
    "vox_cnt = []\n",
    "\n",
    "for cc in range(len(seg0_array)):\n",
    "    vox_cnt.append(len(np.where(seg0==seg0_array[cc])[0]))\n",
    "bg_seg = seg0_array[np.where(np.array(vox_cnt) == max(vox_cnt))[0]][0]\n",
    "\n",
    "res = resize(res,(110,110,110))\n",
    "res[np.where(seg0==bg_seg)] = 0\n",
    "\n",
    "res = resize(res,(256,256,256))\n",
    "\n",
    "mri_rz = resize(mri,(256,256,256))\n",
    "\n",
    "\n",
    "fig = plt.figure(figsize=(21, 5))\n",
    "plt.subplot(1, 3, 1)\n",
    "plt.axis('off')\n",
    "matr = rotate(mri_rz[:, :, 128].reshape(256, 256), 90)\n",
    "plt.imshow(matr, cmap=plt.cm.Greys_r, interpolation=None,\n",
    "           vmax=1., vmin=0.)\n",
    "plt.hold(True)\n",
    "matr = rotate(res[:, :, 128].reshape(256, 256), 90)\n",
    "plt.imshow(matr,\n",
    "           interpolation=None, vmax=1., vmin=.0, alpha=1,\n",
    "           cmap=plt.cm.rainbow)\n",
    "plt.subplot(1, 3, 2)\n",
    "plt.axis('off')\n",
    "matr = rotate(mri_rz[128,:, :].reshape(256, 256), 90)\n",
    "plt.imshow(matr, cmap=plt.cm.Greys_r, interpolation=None,\n",
    "           vmax=1., vmin=0.)\n",
    "plt.hold(True)\n",
    "matr = rotate(res[128,:, :].reshape(256, 256), 90)\n",
    "plt.imshow(matr,\n",
    "           interpolation=None, vmax=1., vmin=.0, alpha=1,\n",
    "           cmap=plt.cm.rainbow)\n",
    "plt.subplot(1, 3, 3)\n",
    "plt.axis('off')\n",
    "matr = rotate(mri_rz[:,128, :].reshape(256, 256), 90)\n",
    "plt.imshow(matr, cmap=plt.cm.Greys_r, interpolation=None,\n",
    "           vmax=1., vmin=0.)\n",
    "plt.hold(True)\n",
    "matr = rotate(res[:,128, :].reshape(256, 256), 90)\n",
    "plt.imshow(matr,\n",
    "           interpolation=None, vmax=1., vmin=.0, alpha=1,\n",
    "           cmap=plt.cm.rainbow)\n",
    "cbar = plt.colorbar()\n",
    "cbar.ax.tick_params(labelsize=20)\n",
    "plt.show()"
   ]
  },
  {
   "cell_type": "code",
   "execution_count": null,
   "metadata": {
    "collapsed": true
   },
   "outputs": [],
   "source": []
  }
 ],
 "metadata": {
  "kernelspec": {
   "display_name": "Python 3",
   "language": "python",
   "name": "python3"
  },
  "language_info": {
   "codemirror_mode": {
    "name": "ipython",
    "version": 3
   },
   "file_extension": ".py",
   "mimetype": "text/x-python",
   "name": "python",
   "nbconvert_exporter": "python",
   "pygments_lexer": "ipython3",
   "version": "3.5.2"
  }
 },
 "nbformat": 4,
 "nbformat_minor": 1
}
